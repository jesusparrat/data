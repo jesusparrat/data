{
 "cells": [
  {
   "cell_type": "markdown",
   "id": "79d84ded",
   "metadata": {},
   "source": [
    "# Operaciones en filas y columnas en un Dataframe"
   ]
  },
  {
   "cell_type": "code",
   "execution_count": 1,
   "id": "01d363cf",
   "metadata": {},
   "outputs": [],
   "source": [
    "# Importamos las librerías necesarias\n",
    "import pandas as pd\n",
    "import numpy as np"
   ]
  },
  {
   "cell_type": "code",
   "execution_count": 2,
   "id": "ae81a7e1",
   "metadata": {},
   "outputs": [],
   "source": [
    "# Leemos el fichero CSV asignando los tipos deseados a las columnas\n",
    "df = pd.read_csv(\n",
    "    'datos_pais.csv',\n",
    "    index_col = [0],\n",
    "    dtype = {'Comunidad':'string', 'Periodo':'int16', 'Poblacion':'int32', 'Pais':'string'}\n",
    ")"
   ]
  },
  {
   "cell_type": "code",
   "execution_count": 3,
   "id": "3f7438c0",
   "metadata": {},
   "outputs": [
    {
     "data": {
      "text/html": [
       "<div>\n",
       "<style scoped>\n",
       "    .dataframe tbody tr th:only-of-type {\n",
       "        vertical-align: middle;\n",
       "    }\n",
       "\n",
       "    .dataframe tbody tr th {\n",
       "        vertical-align: top;\n",
       "    }\n",
       "\n",
       "    .dataframe thead th {\n",
       "        text-align: right;\n",
       "    }\n",
       "</style>\n",
       "<table border=\"1\" class=\"dataframe\">\n",
       "  <thead>\n",
       "    <tr style=\"text-align: right;\">\n",
       "      <th></th>\n",
       "      <th>Comunidad</th>\n",
       "      <th>Periodo</th>\n",
       "      <th>Poblacion</th>\n",
       "      <th>Pais</th>\n",
       "    </tr>\n",
       "  </thead>\n",
       "  <tbody>\n",
       "    <tr>\n",
       "      <th>0</th>\n",
       "      <td>Andalucía</td>\n",
       "      <td>2021</td>\n",
       "      <td>8472407</td>\n",
       "      <td>España</td>\n",
       "    </tr>\n",
       "    <tr>\n",
       "      <th>1</th>\n",
       "      <td>Aragón</td>\n",
       "      <td>2021</td>\n",
       "      <td>1326261</td>\n",
       "      <td>España</td>\n",
       "    </tr>\n",
       "    <tr>\n",
       "      <th>2</th>\n",
       "      <td>Asturias, Principado de</td>\n",
       "      <td>2021</td>\n",
       "      <td>1011792</td>\n",
       "      <td>España</td>\n",
       "    </tr>\n",
       "    <tr>\n",
       "      <th>3</th>\n",
       "      <td>Balears, Illes</td>\n",
       "      <td>2021</td>\n",
       "      <td>1173008</td>\n",
       "      <td>España</td>\n",
       "    </tr>\n",
       "    <tr>\n",
       "      <th>4</th>\n",
       "      <td>Canarias</td>\n",
       "      <td>2021</td>\n",
       "      <td>2172944</td>\n",
       "      <td>España</td>\n",
       "    </tr>\n",
       "    <tr>\n",
       "      <th>5</th>\n",
       "      <td>Cantabria</td>\n",
       "      <td>2021</td>\n",
       "      <td>584507</td>\n",
       "      <td>España</td>\n",
       "    </tr>\n",
       "    <tr>\n",
       "      <th>6</th>\n",
       "      <td>Castilla y León</td>\n",
       "      <td>2021</td>\n",
       "      <td>2383139</td>\n",
       "      <td>España</td>\n",
       "    </tr>\n",
       "    <tr>\n",
       "      <th>7</th>\n",
       "      <td>Castilla - La Mancha</td>\n",
       "      <td>2021</td>\n",
       "      <td>2049562</td>\n",
       "      <td>España</td>\n",
       "    </tr>\n",
       "    <tr>\n",
       "      <th>8</th>\n",
       "      <td>Cataluña</td>\n",
       "      <td>2021</td>\n",
       "      <td>7763362</td>\n",
       "      <td>España</td>\n",
       "    </tr>\n",
       "    <tr>\n",
       "      <th>9</th>\n",
       "      <td>Comunitat Valenciana</td>\n",
       "      <td>2021</td>\n",
       "      <td>5058138</td>\n",
       "      <td>España</td>\n",
       "    </tr>\n",
       "    <tr>\n",
       "      <th>10</th>\n",
       "      <td>Extremadura</td>\n",
       "      <td>2021</td>\n",
       "      <td>1059501</td>\n",
       "      <td>España</td>\n",
       "    </tr>\n",
       "    <tr>\n",
       "      <th>11</th>\n",
       "      <td>Galicia</td>\n",
       "      <td>2021</td>\n",
       "      <td>2695645</td>\n",
       "      <td>España</td>\n",
       "    </tr>\n",
       "    <tr>\n",
       "      <th>12</th>\n",
       "      <td>Madrid, Comunidad de</td>\n",
       "      <td>2021</td>\n",
       "      <td>6751251</td>\n",
       "      <td>España</td>\n",
       "    </tr>\n",
       "    <tr>\n",
       "      <th>13</th>\n",
       "      <td>Murcia, Región de</td>\n",
       "      <td>2021</td>\n",
       "      <td>1518486</td>\n",
       "      <td>España</td>\n",
       "    </tr>\n",
       "    <tr>\n",
       "      <th>14</th>\n",
       "      <td>Navarra, Comunidad Foral de</td>\n",
       "      <td>2021</td>\n",
       "      <td>661537</td>\n",
       "      <td>España</td>\n",
       "    </tr>\n",
       "    <tr>\n",
       "      <th>15</th>\n",
       "      <td>País Vasco</td>\n",
       "      <td>2021</td>\n",
       "      <td>2213993</td>\n",
       "      <td>España</td>\n",
       "    </tr>\n",
       "    <tr>\n",
       "      <th>16</th>\n",
       "      <td>Rioja, La</td>\n",
       "      <td>2021</td>\n",
       "      <td>319796</td>\n",
       "      <td>España</td>\n",
       "    </tr>\n",
       "    <tr>\n",
       "      <th>17</th>\n",
       "      <td>Ceuta</td>\n",
       "      <td>2021</td>\n",
       "      <td>83517</td>\n",
       "      <td>España</td>\n",
       "    </tr>\n",
       "    <tr>\n",
       "      <th>18</th>\n",
       "      <td>Melilla</td>\n",
       "      <td>2021</td>\n",
       "      <td>86261</td>\n",
       "      <td>España</td>\n",
       "    </tr>\n",
       "  </tbody>\n",
       "</table>\n",
       "</div>"
      ],
      "text/plain": [
       "                      Comunidad  Periodo  Poblacion    Pais\n",
       "0                     Andalucía     2021    8472407  España\n",
       "1                        Aragón     2021    1326261  España\n",
       "2       Asturias, Principado de     2021    1011792  España\n",
       "3                Balears, Illes     2021    1173008  España\n",
       "4                      Canarias     2021    2172944  España\n",
       "5                     Cantabria     2021     584507  España\n",
       "6               Castilla y León     2021    2383139  España\n",
       "7          Castilla - La Mancha     2021    2049562  España\n",
       "8                      Cataluña     2021    7763362  España\n",
       "9          Comunitat Valenciana     2021    5058138  España\n",
       "10                  Extremadura     2021    1059501  España\n",
       "11                      Galicia     2021    2695645  España\n",
       "12         Madrid, Comunidad de     2021    6751251  España\n",
       "13            Murcia, Región de     2021    1518486  España\n",
       "14  Navarra, Comunidad Foral de     2021     661537  España\n",
       "15                   País Vasco     2021    2213993  España\n",
       "16                    Rioja, La     2021     319796  España\n",
       "17                        Ceuta     2021      83517  España\n",
       "18                      Melilla     2021      86261  España"
      ]
     },
     "execution_count": 3,
     "metadata": {},
     "output_type": "execute_result"
    }
   ],
   "source": [
    "# Mostramos el Dataframe\n",
    "df"
   ]
  },
  {
   "cell_type": "markdown",
   "id": "4039057a",
   "metadata": {},
   "source": [
    "## Operaciones en columnas"
   ]
  },
  {
   "cell_type": "code",
   "execution_count": 4,
   "id": "00e0a656",
   "metadata": {},
   "outputs": [
    {
     "data": {
      "text/plain": [
       "47385107"
      ]
     },
     "execution_count": 4,
     "metadata": {},
     "output_type": "execute_result"
    }
   ],
   "source": [
    "# Calculamos la población total\n",
    "df['Poblacion'].sum()"
   ]
  },
  {
   "cell_type": "code",
   "execution_count": 5,
   "id": "ec8cfda1",
   "metadata": {},
   "outputs": [
    {
     "data": {
      "text/plain": [
       "19"
      ]
     },
     "execution_count": 5,
     "metadata": {},
     "output_type": "execute_result"
    }
   ],
   "source": [
    "# Número de elementos\n",
    "df['Poblacion'].count()"
   ]
  },
  {
   "cell_type": "code",
   "execution_count": 6,
   "id": "2bb1eb6b",
   "metadata": {},
   "outputs": [
    {
     "data": {
      "text/plain": [
       "2493953.0"
      ]
     },
     "execution_count": 6,
     "metadata": {},
     "output_type": "execute_result"
    }
   ],
   "source": [
    "# Valor medio\n",
    "df['Poblacion'].mean()"
   ]
  },
  {
   "cell_type": "code",
   "execution_count": 7,
   "id": "66754368",
   "metadata": {},
   "outputs": [
    {
     "data": {
      "text/plain": [
       "2585132.1163340528"
      ]
     },
     "execution_count": 7,
     "metadata": {},
     "output_type": "execute_result"
    }
   ],
   "source": [
    "# Desviación estándar\n",
    "df['Poblacion'].std()"
   ]
  },
  {
   "cell_type": "code",
   "execution_count": 8,
   "id": "de342ca4",
   "metadata": {},
   "outputs": [
    {
     "data": {
      "text/plain": [
       "8472407"
      ]
     },
     "execution_count": 8,
     "metadata": {},
     "output_type": "execute_result"
    }
   ],
   "source": [
    "# Máximo\n",
    "df['Poblacion'].max()"
   ]
  },
  {
   "cell_type": "code",
   "execution_count": 9,
   "id": "00a7a94b",
   "metadata": {},
   "outputs": [
    {
     "data": {
      "text/plain": [
       "83517"
      ]
     },
     "execution_count": 9,
     "metadata": {},
     "output_type": "execute_result"
    }
   ],
   "source": [
    "# Mínimo\n",
    "df['Poblacion'].min()"
   ]
  },
  {
   "cell_type": "code",
   "execution_count": 10,
   "id": "4aeba6e9",
   "metadata": {},
   "outputs": [
    {
     "data": {
      "text/html": [
       "<div>\n",
       "<style scoped>\n",
       "    .dataframe tbody tr th:only-of-type {\n",
       "        vertical-align: middle;\n",
       "    }\n",
       "\n",
       "    .dataframe tbody tr th {\n",
       "        vertical-align: top;\n",
       "    }\n",
       "\n",
       "    .dataframe thead th {\n",
       "        text-align: right;\n",
       "    }\n",
       "</style>\n",
       "<table border=\"1\" class=\"dataframe\">\n",
       "  <thead>\n",
       "    <tr style=\"text-align: right;\">\n",
       "      <th></th>\n",
       "      <th>Periodo</th>\n",
       "      <th>Poblacion</th>\n",
       "    </tr>\n",
       "  </thead>\n",
       "  <tbody>\n",
       "    <tr>\n",
       "      <th>count</th>\n",
       "      <td>19.0</td>\n",
       "      <td>1.900000e+01</td>\n",
       "    </tr>\n",
       "    <tr>\n",
       "      <th>mean</th>\n",
       "      <td>2021.0</td>\n",
       "      <td>2.493953e+06</td>\n",
       "    </tr>\n",
       "    <tr>\n",
       "      <th>std</th>\n",
       "      <td>0.0</td>\n",
       "      <td>2.585132e+06</td>\n",
       "    </tr>\n",
       "    <tr>\n",
       "      <th>min</th>\n",
       "      <td>2021.0</td>\n",
       "      <td>8.351700e+04</td>\n",
       "    </tr>\n",
       "    <tr>\n",
       "      <th>25%</th>\n",
       "      <td>2021.0</td>\n",
       "      <td>8.366645e+05</td>\n",
       "    </tr>\n",
       "    <tr>\n",
       "      <th>50%</th>\n",
       "      <td>2021.0</td>\n",
       "      <td>1.518486e+06</td>\n",
       "    </tr>\n",
       "    <tr>\n",
       "      <th>75%</th>\n",
       "      <td>2021.0</td>\n",
       "      <td>2.539392e+06</td>\n",
       "    </tr>\n",
       "    <tr>\n",
       "      <th>max</th>\n",
       "      <td>2021.0</td>\n",
       "      <td>8.472407e+06</td>\n",
       "    </tr>\n",
       "  </tbody>\n",
       "</table>\n",
       "</div>"
      ],
      "text/plain": [
       "       Periodo     Poblacion\n",
       "count     19.0  1.900000e+01\n",
       "mean    2021.0  2.493953e+06\n",
       "std        0.0  2.585132e+06\n",
       "min     2021.0  8.351700e+04\n",
       "25%     2021.0  8.366645e+05\n",
       "50%     2021.0  1.518486e+06\n",
       "75%     2021.0  2.539392e+06\n",
       "max     2021.0  8.472407e+06"
      ]
     },
     "execution_count": 10,
     "metadata": {},
     "output_type": "execute_result"
    }
   ],
   "source": [
    "# El método describe() también nos permitía obtener\n",
    "# información estadística.\n",
    "df.describe()"
   ]
  },
  {
   "cell_type": "markdown",
   "id": "f5c78f7b",
   "metadata": {},
   "source": [
    "## Operaciones en filas"
   ]
  },
  {
   "cell_type": "code",
   "execution_count": 11,
   "id": "02d91d56",
   "metadata": {},
   "outputs": [
    {
     "data": {
      "text/plain": [
       "0     8474428\n",
       "1     1328282\n",
       "2     1013813\n",
       "3     1175029\n",
       "4     2174965\n",
       "5      586528\n",
       "6     2385160\n",
       "7     2051583\n",
       "8     7765383\n",
       "9     5060159\n",
       "10    1061522\n",
       "11    2697666\n",
       "12    6753272\n",
       "13    1520507\n",
       "14     663558\n",
       "15    2216014\n",
       "16     321817\n",
       "17      85538\n",
       "18      88282\n",
       "dtype: int32"
      ]
     },
     "execution_count": 11,
     "metadata": {},
     "output_type": "execute_result"
    }
   ],
   "source": [
    "# Aunque en este ejemplo no tiene sentido,\n",
    "# también podríamos operar sobre las filas\n",
    "# Ej.: Suma del Periodo + Poblacion\n",
    "df['Periodo'] + df['Poblacion']"
   ]
  },
  {
   "cell_type": "code",
   "execution_count": 12,
   "id": "d92810a7",
   "metadata": {},
   "outputs": [],
   "source": [
    "# Si lo deseamos podemos crear una nueva columna\n",
    "# con el resultado de la operación\n",
    "df['Suma'] = df['Periodo'] + df['Poblacion']"
   ]
  },
  {
   "cell_type": "code",
   "execution_count": 13,
   "id": "e0483a24",
   "metadata": {},
   "outputs": [
    {
     "data": {
      "text/html": [
       "<div>\n",
       "<style scoped>\n",
       "    .dataframe tbody tr th:only-of-type {\n",
       "        vertical-align: middle;\n",
       "    }\n",
       "\n",
       "    .dataframe tbody tr th {\n",
       "        vertical-align: top;\n",
       "    }\n",
       "\n",
       "    .dataframe thead th {\n",
       "        text-align: right;\n",
       "    }\n",
       "</style>\n",
       "<table border=\"1\" class=\"dataframe\">\n",
       "  <thead>\n",
       "    <tr style=\"text-align: right;\">\n",
       "      <th></th>\n",
       "      <th>Comunidad</th>\n",
       "      <th>Periodo</th>\n",
       "      <th>Poblacion</th>\n",
       "      <th>Pais</th>\n",
       "      <th>Suma</th>\n",
       "    </tr>\n",
       "  </thead>\n",
       "  <tbody>\n",
       "    <tr>\n",
       "      <th>0</th>\n",
       "      <td>Andalucía</td>\n",
       "      <td>2021</td>\n",
       "      <td>8472407</td>\n",
       "      <td>España</td>\n",
       "      <td>8474428</td>\n",
       "    </tr>\n",
       "    <tr>\n",
       "      <th>1</th>\n",
       "      <td>Aragón</td>\n",
       "      <td>2021</td>\n",
       "      <td>1326261</td>\n",
       "      <td>España</td>\n",
       "      <td>1328282</td>\n",
       "    </tr>\n",
       "    <tr>\n",
       "      <th>2</th>\n",
       "      <td>Asturias, Principado de</td>\n",
       "      <td>2021</td>\n",
       "      <td>1011792</td>\n",
       "      <td>España</td>\n",
       "      <td>1013813</td>\n",
       "    </tr>\n",
       "    <tr>\n",
       "      <th>3</th>\n",
       "      <td>Balears, Illes</td>\n",
       "      <td>2021</td>\n",
       "      <td>1173008</td>\n",
       "      <td>España</td>\n",
       "      <td>1175029</td>\n",
       "    </tr>\n",
       "    <tr>\n",
       "      <th>4</th>\n",
       "      <td>Canarias</td>\n",
       "      <td>2021</td>\n",
       "      <td>2172944</td>\n",
       "      <td>España</td>\n",
       "      <td>2174965</td>\n",
       "    </tr>\n",
       "    <tr>\n",
       "      <th>5</th>\n",
       "      <td>Cantabria</td>\n",
       "      <td>2021</td>\n",
       "      <td>584507</td>\n",
       "      <td>España</td>\n",
       "      <td>586528</td>\n",
       "    </tr>\n",
       "    <tr>\n",
       "      <th>6</th>\n",
       "      <td>Castilla y León</td>\n",
       "      <td>2021</td>\n",
       "      <td>2383139</td>\n",
       "      <td>España</td>\n",
       "      <td>2385160</td>\n",
       "    </tr>\n",
       "    <tr>\n",
       "      <th>7</th>\n",
       "      <td>Castilla - La Mancha</td>\n",
       "      <td>2021</td>\n",
       "      <td>2049562</td>\n",
       "      <td>España</td>\n",
       "      <td>2051583</td>\n",
       "    </tr>\n",
       "    <tr>\n",
       "      <th>8</th>\n",
       "      <td>Cataluña</td>\n",
       "      <td>2021</td>\n",
       "      <td>7763362</td>\n",
       "      <td>España</td>\n",
       "      <td>7765383</td>\n",
       "    </tr>\n",
       "    <tr>\n",
       "      <th>9</th>\n",
       "      <td>Comunitat Valenciana</td>\n",
       "      <td>2021</td>\n",
       "      <td>5058138</td>\n",
       "      <td>España</td>\n",
       "      <td>5060159</td>\n",
       "    </tr>\n",
       "    <tr>\n",
       "      <th>10</th>\n",
       "      <td>Extremadura</td>\n",
       "      <td>2021</td>\n",
       "      <td>1059501</td>\n",
       "      <td>España</td>\n",
       "      <td>1061522</td>\n",
       "    </tr>\n",
       "    <tr>\n",
       "      <th>11</th>\n",
       "      <td>Galicia</td>\n",
       "      <td>2021</td>\n",
       "      <td>2695645</td>\n",
       "      <td>España</td>\n",
       "      <td>2697666</td>\n",
       "    </tr>\n",
       "    <tr>\n",
       "      <th>12</th>\n",
       "      <td>Madrid, Comunidad de</td>\n",
       "      <td>2021</td>\n",
       "      <td>6751251</td>\n",
       "      <td>España</td>\n",
       "      <td>6753272</td>\n",
       "    </tr>\n",
       "    <tr>\n",
       "      <th>13</th>\n",
       "      <td>Murcia, Región de</td>\n",
       "      <td>2021</td>\n",
       "      <td>1518486</td>\n",
       "      <td>España</td>\n",
       "      <td>1520507</td>\n",
       "    </tr>\n",
       "    <tr>\n",
       "      <th>14</th>\n",
       "      <td>Navarra, Comunidad Foral de</td>\n",
       "      <td>2021</td>\n",
       "      <td>661537</td>\n",
       "      <td>España</td>\n",
       "      <td>663558</td>\n",
       "    </tr>\n",
       "    <tr>\n",
       "      <th>15</th>\n",
       "      <td>País Vasco</td>\n",
       "      <td>2021</td>\n",
       "      <td>2213993</td>\n",
       "      <td>España</td>\n",
       "      <td>2216014</td>\n",
       "    </tr>\n",
       "    <tr>\n",
       "      <th>16</th>\n",
       "      <td>Rioja, La</td>\n",
       "      <td>2021</td>\n",
       "      <td>319796</td>\n",
       "      <td>España</td>\n",
       "      <td>321817</td>\n",
       "    </tr>\n",
       "    <tr>\n",
       "      <th>17</th>\n",
       "      <td>Ceuta</td>\n",
       "      <td>2021</td>\n",
       "      <td>83517</td>\n",
       "      <td>España</td>\n",
       "      <td>85538</td>\n",
       "    </tr>\n",
       "    <tr>\n",
       "      <th>18</th>\n",
       "      <td>Melilla</td>\n",
       "      <td>2021</td>\n",
       "      <td>86261</td>\n",
       "      <td>España</td>\n",
       "      <td>88282</td>\n",
       "    </tr>\n",
       "  </tbody>\n",
       "</table>\n",
       "</div>"
      ],
      "text/plain": [
       "                      Comunidad  Periodo  Poblacion    Pais     Suma\n",
       "0                     Andalucía     2021    8472407  España  8474428\n",
       "1                        Aragón     2021    1326261  España  1328282\n",
       "2       Asturias, Principado de     2021    1011792  España  1013813\n",
       "3                Balears, Illes     2021    1173008  España  1175029\n",
       "4                      Canarias     2021    2172944  España  2174965\n",
       "5                     Cantabria     2021     584507  España   586528\n",
       "6               Castilla y León     2021    2383139  España  2385160\n",
       "7          Castilla - La Mancha     2021    2049562  España  2051583\n",
       "8                      Cataluña     2021    7763362  España  7765383\n",
       "9          Comunitat Valenciana     2021    5058138  España  5060159\n",
       "10                  Extremadura     2021    1059501  España  1061522\n",
       "11                      Galicia     2021    2695645  España  2697666\n",
       "12         Madrid, Comunidad de     2021    6751251  España  6753272\n",
       "13            Murcia, Región de     2021    1518486  España  1520507\n",
       "14  Navarra, Comunidad Foral de     2021     661537  España   663558\n",
       "15                   País Vasco     2021    2213993  España  2216014\n",
       "16                    Rioja, La     2021     319796  España   321817\n",
       "17                        Ceuta     2021      83517  España    85538\n",
       "18                      Melilla     2021      86261  España    88282"
      ]
     },
     "execution_count": 13,
     "metadata": {},
     "output_type": "execute_result"
    }
   ],
   "source": [
    "# Mostramos el Dataframe\n",
    "df"
   ]
  }
 ],
 "metadata": {
  "kernelspec": {
   "display_name": "Python 3 (ipykernel)",
   "language": "python",
   "name": "python3"
  },
  "language_info": {
   "codemirror_mode": {
    "name": "ipython",
    "version": 3
   },
   "file_extension": ".py",
   "mimetype": "text/x-python",
   "name": "python",
   "nbconvert_exporter": "python",
   "pygments_lexer": "ipython3",
   "version": "3.11.5"
  }
 },
 "nbformat": 4,
 "nbformat_minor": 5
}
