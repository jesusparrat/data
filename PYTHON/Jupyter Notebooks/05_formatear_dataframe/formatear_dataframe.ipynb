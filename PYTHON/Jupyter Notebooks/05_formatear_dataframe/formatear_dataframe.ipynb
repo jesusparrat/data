{
 "cells": [
  {
   "cell_type": "markdown",
   "id": "27e5775b",
   "metadata": {},
   "source": [
    "# Formatear Dataframe"
   ]
  },
  {
   "cell_type": "code",
   "execution_count": 1,
   "id": "01d363cf",
   "metadata": {},
   "outputs": [],
   "source": [
    "# Importamos las librerías necesarias\n",
    "import pandas as pd\n",
    "import numpy as np"
   ]
  },
  {
   "cell_type": "code",
   "execution_count": 2,
   "id": "ae81a7e1",
   "metadata": {},
   "outputs": [],
   "source": [
    "# Leemos el fichero CSV\n",
    "df = pd.read_csv('datos_limpios.csv', index_col=[0])"
   ]
  },
  {
   "cell_type": "code",
   "execution_count": 3,
   "id": "3f7438c0",
   "metadata": {
    "scrolled": true
   },
   "outputs": [
    {
     "data": {
      "text/html": [
       "<div>\n",
       "<style scoped>\n",
       "    .dataframe tbody tr th:only-of-type {\n",
       "        vertical-align: middle;\n",
       "    }\n",
       "\n",
       "    .dataframe tbody tr th {\n",
       "        vertical-align: top;\n",
       "    }\n",
       "\n",
       "    .dataframe thead th {\n",
       "        text-align: right;\n",
       "    }\n",
       "</style>\n",
       "<table border=\"1\" class=\"dataframe\">\n",
       "  <thead>\n",
       "    <tr style=\"text-align: right;\">\n",
       "      <th></th>\n",
       "      <th>Comunidad</th>\n",
       "      <th>Periodo</th>\n",
       "      <th>Poblacion</th>\n",
       "    </tr>\n",
       "  </thead>\n",
       "  <tbody>\n",
       "    <tr>\n",
       "      <th>0</th>\n",
       "      <td>Andalucía</td>\n",
       "      <td>2021</td>\n",
       "      <td>8472407</td>\n",
       "    </tr>\n",
       "    <tr>\n",
       "      <th>1</th>\n",
       "      <td>Aragón</td>\n",
       "      <td>2021</td>\n",
       "      <td>1326261</td>\n",
       "    </tr>\n",
       "    <tr>\n",
       "      <th>2</th>\n",
       "      <td>Asturias, Principado de</td>\n",
       "      <td>2021</td>\n",
       "      <td>1011792</td>\n",
       "    </tr>\n",
       "    <tr>\n",
       "      <th>3</th>\n",
       "      <td>Balears, Illes</td>\n",
       "      <td>2021</td>\n",
       "      <td>1173008</td>\n",
       "    </tr>\n",
       "    <tr>\n",
       "      <th>4</th>\n",
       "      <td>Canarias</td>\n",
       "      <td>2021</td>\n",
       "      <td>2172944</td>\n",
       "    </tr>\n",
       "    <tr>\n",
       "      <th>5</th>\n",
       "      <td>Cantabria</td>\n",
       "      <td>2021</td>\n",
       "      <td>584507</td>\n",
       "    </tr>\n",
       "    <tr>\n",
       "      <th>6</th>\n",
       "      <td>Castilla y León</td>\n",
       "      <td>2021</td>\n",
       "      <td>2383139</td>\n",
       "    </tr>\n",
       "    <tr>\n",
       "      <th>7</th>\n",
       "      <td>Castilla - La Mancha</td>\n",
       "      <td>2021</td>\n",
       "      <td>2049562</td>\n",
       "    </tr>\n",
       "    <tr>\n",
       "      <th>8</th>\n",
       "      <td>Cataluña</td>\n",
       "      <td>2021</td>\n",
       "      <td>7763362</td>\n",
       "    </tr>\n",
       "    <tr>\n",
       "      <th>9</th>\n",
       "      <td>Comunitat Valenciana</td>\n",
       "      <td>2021</td>\n",
       "      <td>5058138</td>\n",
       "    </tr>\n",
       "    <tr>\n",
       "      <th>10</th>\n",
       "      <td>Extremadura</td>\n",
       "      <td>2021</td>\n",
       "      <td>1059501</td>\n",
       "    </tr>\n",
       "    <tr>\n",
       "      <th>11</th>\n",
       "      <td>Galicia</td>\n",
       "      <td>2021</td>\n",
       "      <td>2695645</td>\n",
       "    </tr>\n",
       "    <tr>\n",
       "      <th>12</th>\n",
       "      <td>Madrid, Comunidad de</td>\n",
       "      <td>2021</td>\n",
       "      <td>6751251</td>\n",
       "    </tr>\n",
       "    <tr>\n",
       "      <th>13</th>\n",
       "      <td>Murcia, Región de</td>\n",
       "      <td>2021</td>\n",
       "      <td>1518486</td>\n",
       "    </tr>\n",
       "    <tr>\n",
       "      <th>14</th>\n",
       "      <td>Navarra, Comunidad Foral de</td>\n",
       "      <td>2021</td>\n",
       "      <td>661537</td>\n",
       "    </tr>\n",
       "    <tr>\n",
       "      <th>15</th>\n",
       "      <td>País Vasco</td>\n",
       "      <td>2021</td>\n",
       "      <td>2213993</td>\n",
       "    </tr>\n",
       "    <tr>\n",
       "      <th>16</th>\n",
       "      <td>Rioja, La</td>\n",
       "      <td>2021</td>\n",
       "      <td>319796</td>\n",
       "    </tr>\n",
       "    <tr>\n",
       "      <th>17</th>\n",
       "      <td>Ceuta</td>\n",
       "      <td>2021</td>\n",
       "      <td>83517</td>\n",
       "    </tr>\n",
       "    <tr>\n",
       "      <th>18</th>\n",
       "      <td>Melilla</td>\n",
       "      <td>2021</td>\n",
       "      <td>86261</td>\n",
       "    </tr>\n",
       "  </tbody>\n",
       "</table>\n",
       "</div>"
      ],
      "text/plain": [
       "                      Comunidad  Periodo  Poblacion\n",
       "0                     Andalucía     2021    8472407\n",
       "1                        Aragón     2021    1326261\n",
       "2       Asturias, Principado de     2021    1011792\n",
       "3                Balears, Illes     2021    1173008\n",
       "4                      Canarias     2021    2172944\n",
       "5                     Cantabria     2021     584507\n",
       "6               Castilla y León     2021    2383139\n",
       "7          Castilla - La Mancha     2021    2049562\n",
       "8                      Cataluña     2021    7763362\n",
       "9          Comunitat Valenciana     2021    5058138\n",
       "10                  Extremadura     2021    1059501\n",
       "11                      Galicia     2021    2695645\n",
       "12         Madrid, Comunidad de     2021    6751251\n",
       "13            Murcia, Región de     2021    1518486\n",
       "14  Navarra, Comunidad Foral de     2021     661537\n",
       "15                   País Vasco     2021    2213993\n",
       "16                    Rioja, La     2021     319796\n",
       "17                        Ceuta     2021      83517\n",
       "18                      Melilla     2021      86261"
      ]
     },
     "execution_count": 3,
     "metadata": {},
     "output_type": "execute_result"
    }
   ],
   "source": [
    "# Mostramos el Dataframe\n",
    "df"
   ]
  },
  {
   "cell_type": "code",
   "execution_count": 4,
   "id": "1c8f8257",
   "metadata": {},
   "outputs": [
    {
     "data": {
      "text/plain": [
       "Comunidad    object\n",
       "Periodo       int64\n",
       "Poblacion     int64\n",
       "dtype: object"
      ]
     },
     "execution_count": 4,
     "metadata": {},
     "output_type": "execute_result"
    }
   ],
   "source": [
    "# Mostamos los tipos de datos del Dataframe\n",
    "df.dtypes"
   ]
  },
  {
   "cell_type": "code",
   "execution_count": 5,
   "id": "ad7fa9ec",
   "metadata": {},
   "outputs": [
    {
     "data": {
      "text/plain": [
       "Index        152\n",
       "Comunidad    152\n",
       "Periodo      152\n",
       "Poblacion    152\n",
       "dtype: int64"
      ]
     },
     "execution_count": 5,
     "metadata": {},
     "output_type": "execute_result"
    }
   ],
   "source": [
    "# Mostramos el uso de memoria en Bytes de las Series del Dataframe\n",
    "df.memory_usage()"
   ]
  },
  {
   "cell_type": "code",
   "execution_count": 6,
   "id": "a26812a9",
   "metadata": {},
   "outputs": [],
   "source": [
    "# Cambiamos el tipo de la columna 'Comunidad' a string\n",
    "df['Comunidad'] = df['Comunidad'].astype(\"string\")"
   ]
  },
  {
   "cell_type": "code",
   "execution_count": 7,
   "id": "7299176c",
   "metadata": {},
   "outputs": [],
   "source": [
    "# Cambiamos el tipo de la columna 'Periodo' a int16\n",
    "df['Periodo'] = df['Periodo'].astype(\"int16\")"
   ]
  },
  {
   "cell_type": "code",
   "execution_count": 8,
   "id": "597e6439",
   "metadata": {},
   "outputs": [],
   "source": [
    "# Cambiamos el tipo de la columna 'Población' a int32\n",
    "df['Poblacion'] = df['Poblacion'].astype(\"int32\")"
   ]
  },
  {
   "cell_type": "code",
   "execution_count": 9,
   "id": "27f4d882",
   "metadata": {},
   "outputs": [
    {
     "data": {
      "text/html": [
       "<div>\n",
       "<style scoped>\n",
       "    .dataframe tbody tr th:only-of-type {\n",
       "        vertical-align: middle;\n",
       "    }\n",
       "\n",
       "    .dataframe tbody tr th {\n",
       "        vertical-align: top;\n",
       "    }\n",
       "\n",
       "    .dataframe thead th {\n",
       "        text-align: right;\n",
       "    }\n",
       "</style>\n",
       "<table border=\"1\" class=\"dataframe\">\n",
       "  <thead>\n",
       "    <tr style=\"text-align: right;\">\n",
       "      <th></th>\n",
       "      <th>Comunidad</th>\n",
       "      <th>Periodo</th>\n",
       "      <th>Poblacion</th>\n",
       "    </tr>\n",
       "  </thead>\n",
       "  <tbody>\n",
       "    <tr>\n",
       "      <th>0</th>\n",
       "      <td>Andalucía</td>\n",
       "      <td>2021</td>\n",
       "      <td>8472407</td>\n",
       "    </tr>\n",
       "    <tr>\n",
       "      <th>1</th>\n",
       "      <td>Aragón</td>\n",
       "      <td>2021</td>\n",
       "      <td>1326261</td>\n",
       "    </tr>\n",
       "    <tr>\n",
       "      <th>2</th>\n",
       "      <td>Asturias, Principado de</td>\n",
       "      <td>2021</td>\n",
       "      <td>1011792</td>\n",
       "    </tr>\n",
       "    <tr>\n",
       "      <th>3</th>\n",
       "      <td>Balears, Illes</td>\n",
       "      <td>2021</td>\n",
       "      <td>1173008</td>\n",
       "    </tr>\n",
       "    <tr>\n",
       "      <th>4</th>\n",
       "      <td>Canarias</td>\n",
       "      <td>2021</td>\n",
       "      <td>2172944</td>\n",
       "    </tr>\n",
       "    <tr>\n",
       "      <th>5</th>\n",
       "      <td>Cantabria</td>\n",
       "      <td>2021</td>\n",
       "      <td>584507</td>\n",
       "    </tr>\n",
       "    <tr>\n",
       "      <th>6</th>\n",
       "      <td>Castilla y León</td>\n",
       "      <td>2021</td>\n",
       "      <td>2383139</td>\n",
       "    </tr>\n",
       "    <tr>\n",
       "      <th>7</th>\n",
       "      <td>Castilla - La Mancha</td>\n",
       "      <td>2021</td>\n",
       "      <td>2049562</td>\n",
       "    </tr>\n",
       "    <tr>\n",
       "      <th>8</th>\n",
       "      <td>Cataluña</td>\n",
       "      <td>2021</td>\n",
       "      <td>7763362</td>\n",
       "    </tr>\n",
       "    <tr>\n",
       "      <th>9</th>\n",
       "      <td>Comunitat Valenciana</td>\n",
       "      <td>2021</td>\n",
       "      <td>5058138</td>\n",
       "    </tr>\n",
       "    <tr>\n",
       "      <th>10</th>\n",
       "      <td>Extremadura</td>\n",
       "      <td>2021</td>\n",
       "      <td>1059501</td>\n",
       "    </tr>\n",
       "    <tr>\n",
       "      <th>11</th>\n",
       "      <td>Galicia</td>\n",
       "      <td>2021</td>\n",
       "      <td>2695645</td>\n",
       "    </tr>\n",
       "    <tr>\n",
       "      <th>12</th>\n",
       "      <td>Madrid, Comunidad de</td>\n",
       "      <td>2021</td>\n",
       "      <td>6751251</td>\n",
       "    </tr>\n",
       "    <tr>\n",
       "      <th>13</th>\n",
       "      <td>Murcia, Región de</td>\n",
       "      <td>2021</td>\n",
       "      <td>1518486</td>\n",
       "    </tr>\n",
       "    <tr>\n",
       "      <th>14</th>\n",
       "      <td>Navarra, Comunidad Foral de</td>\n",
       "      <td>2021</td>\n",
       "      <td>661537</td>\n",
       "    </tr>\n",
       "    <tr>\n",
       "      <th>15</th>\n",
       "      <td>País Vasco</td>\n",
       "      <td>2021</td>\n",
       "      <td>2213993</td>\n",
       "    </tr>\n",
       "    <tr>\n",
       "      <th>16</th>\n",
       "      <td>Rioja, La</td>\n",
       "      <td>2021</td>\n",
       "      <td>319796</td>\n",
       "    </tr>\n",
       "    <tr>\n",
       "      <th>17</th>\n",
       "      <td>Ceuta</td>\n",
       "      <td>2021</td>\n",
       "      <td>83517</td>\n",
       "    </tr>\n",
       "    <tr>\n",
       "      <th>18</th>\n",
       "      <td>Melilla</td>\n",
       "      <td>2021</td>\n",
       "      <td>86261</td>\n",
       "    </tr>\n",
       "  </tbody>\n",
       "</table>\n",
       "</div>"
      ],
      "text/plain": [
       "                      Comunidad  Periodo  Poblacion\n",
       "0                     Andalucía     2021    8472407\n",
       "1                        Aragón     2021    1326261\n",
       "2       Asturias, Principado de     2021    1011792\n",
       "3                Balears, Illes     2021    1173008\n",
       "4                      Canarias     2021    2172944\n",
       "5                     Cantabria     2021     584507\n",
       "6               Castilla y León     2021    2383139\n",
       "7          Castilla - La Mancha     2021    2049562\n",
       "8                      Cataluña     2021    7763362\n",
       "9          Comunitat Valenciana     2021    5058138\n",
       "10                  Extremadura     2021    1059501\n",
       "11                      Galicia     2021    2695645\n",
       "12         Madrid, Comunidad de     2021    6751251\n",
       "13            Murcia, Región de     2021    1518486\n",
       "14  Navarra, Comunidad Foral de     2021     661537\n",
       "15                   País Vasco     2021    2213993\n",
       "16                    Rioja, La     2021     319796\n",
       "17                        Ceuta     2021      83517\n",
       "18                      Melilla     2021      86261"
      ]
     },
     "execution_count": 9,
     "metadata": {},
     "output_type": "execute_result"
    }
   ],
   "source": [
    "# Mostramos el Dataframe\n",
    "df"
   ]
  },
  {
   "cell_type": "code",
   "execution_count": 10,
   "id": "d9f4e377",
   "metadata": {},
   "outputs": [
    {
     "data": {
      "text/plain": [
       "Comunidad    string[python]\n",
       "Periodo               int16\n",
       "Poblacion             int32\n",
       "dtype: object"
      ]
     },
     "execution_count": 10,
     "metadata": {},
     "output_type": "execute_result"
    }
   ],
   "source": [
    "# Mostamos los tipos de datos del Dataframe\n",
    "df.dtypes"
   ]
  },
  {
   "cell_type": "code",
   "execution_count": 11,
   "id": "b230d9a2",
   "metadata": {},
   "outputs": [
    {
     "data": {
      "text/plain": [
       "Index        152\n",
       "Comunidad    152\n",
       "Periodo       38\n",
       "Poblacion     76\n",
       "dtype: int64"
      ]
     },
     "execution_count": 11,
     "metadata": {},
     "output_type": "execute_result"
    }
   ],
   "source": [
    "# Mostramos el uso de memoria en Bytes de las Series del Dataframe\n",
    "df.memory_usage()"
   ]
  }
 ],
 "metadata": {
  "kernelspec": {
   "display_name": "Python 3 (ipykernel)",
   "language": "python",
   "name": "python3"
  },
  "language_info": {
   "codemirror_mode": {
    "name": "ipython",
    "version": 3
   },
   "file_extension": ".py",
   "mimetype": "text/x-python",
   "name": "python",
   "nbconvert_exporter": "python",
   "pygments_lexer": "ipython3",
   "version": "3.11.5"
  }
 },
 "nbformat": 4,
 "nbformat_minor": 5
}
