{
 "cells": [
  {
   "cell_type": "markdown",
   "id": "0b340552",
   "metadata": {},
   "source": [
    "# Pandas\n",
    "\n",
    "## Crear un Dataframe\n",
    "\n",
    "Es posible crear un Dataframe de pandas de formas diferentes:\n",
    "\n",
    "- A partir de arrays unidimensionales (listas de Python o arrays de Numpy)\n",
    "- A partir de un diccionario de Python\n",
    "- A partir de un fichero CSV\n",
    "- A partir de un fichero JSON\n",
    "\n",
    "Antes de comenzar importaremos las librerías necesarias:"
   ]
  },
  {
   "cell_type": "code",
   "execution_count": 1,
   "id": "cedbab3b",
   "metadata": {},
   "outputs": [],
   "source": [
    "# Importamos las librerías necesarias\n",
    "import pandas as pd\n",
    "import numpy as np"
   ]
  },
  {
   "cell_type": "markdown",
   "id": "8bb1e923",
   "metadata": {},
   "source": [
    "### Crear un Dataframe a partir de arrays unidimensionales"
   ]
  },
  {
   "cell_type": "markdown",
   "id": "cf7d6fda",
   "metadata": {},
   "source": [
    "#### Crear un Dataframe a partir de listas de Python"
   ]
  },
  {
   "cell_type": "code",
   "execution_count": 2,
   "id": "5de507b2",
   "metadata": {},
   "outputs": [],
   "source": [
    "# Una lista de Python es un tipo de estructura de datos que representa una secuencia ordenada de elementos.\n",
    "# Para representar una lista empleamos los corchetes ('[]').\n",
    "# Podemos definir una lista enumerando sus elementos separados por comas.\n",
    "# Por ejemplo, podemos definir una lista 'datos' que contenga los números del 1 al 5:\n",
    "datos = [1, 2, 3, 4, 5]"
   ]
  },
  {
   "cell_type": "code",
   "execution_count": 3,
   "id": "ec43fd9e",
   "metadata": {},
   "outputs": [
    {
     "data": {
      "text/plain": [
       "[1, 2, 3, 4, 5]"
      ]
     },
     "execution_count": 3,
     "metadata": {},
     "output_type": "execute_result"
    }
   ],
   "source": [
    "# Mostramos la lista\n",
    "datos"
   ]
  },
  {
   "cell_type": "code",
   "execution_count": 4,
   "id": "5d05fba2",
   "metadata": {},
   "outputs": [],
   "source": [
    "# Los elementos de una lista pueden ser de cualquier tipo, incluso pueden ser otras listas\n",
    "# Por ejemplo:\n",
    "elemento_1 = [1, 2]\n",
    "elemento_2 = [3, 4]\n",
    "elemento_3 = [5, 6]\n",
    "datos = [elemento_1, elemento_2, elemento_3]"
   ]
  },
  {
   "cell_type": "code",
   "execution_count": 5,
   "id": "37a66e1f",
   "metadata": {},
   "outputs": [
    {
     "data": {
      "text/plain": [
       "[[1, 2], [3, 4], [5, 6]]"
      ]
     },
     "execution_count": 5,
     "metadata": {},
     "output_type": "execute_result"
    }
   ],
   "source": [
    "# Mostramos nuevamente la lista\n",
    "datos"
   ]
  },
  {
   "cell_type": "code",
   "execution_count": 6,
   "id": "a3970482",
   "metadata": {},
   "outputs": [],
   "source": [
    "# Esta estructura es lo que se conoce como una lista anidada (una lista que contiene otras listas)\n",
    "# Es posible crear dicha lista anidada en una única línea de código:\n",
    "datos = [[1,2], [3,4], [5,6]]"
   ]
  },
  {
   "cell_type": "code",
   "execution_count": 7,
   "id": "b25e6555",
   "metadata": {},
   "outputs": [
    {
     "data": {
      "text/plain": [
       "[[1, 2], [3, 4], [5, 6]]"
      ]
     },
     "execution_count": 7,
     "metadata": {},
     "output_type": "execute_result"
    }
   ],
   "source": [
    "# Mostramos la lista\n",
    "datos"
   ]
  },
  {
   "cell_type": "code",
   "execution_count": 8,
   "id": "6ea6ce61",
   "metadata": {},
   "outputs": [],
   "source": [
    "# Si escribimos cada elemento de la lista anidada anterior en una línea de código\n",
    "# diferente podemos ver que conforman una matriz con la siguiente estructura:\n",
    "#\n",
    "# ╔═══╤═══╗\n",
    "# ║ 1 │ 2 ║\n",
    "# ╠═══╪═══╣\n",
    "# ║ 3 │ 4 ║\n",
    "# ╟───┼───╢\n",
    "# ║ 5 │ 6 ║\n",
    "# ╚═══╧═══╝\n",
    "\n",
    "datos = [\n",
    "    [1,2],\n",
    "    [3,4],\n",
    "    [5,6]\n",
    "]"
   ]
  },
  {
   "cell_type": "code",
   "execution_count": 9,
   "id": "9bc79f62",
   "metadata": {},
   "outputs": [
    {
     "data": {
      "text/html": [
       "<div>\n",
       "<style scoped>\n",
       "    .dataframe tbody tr th:only-of-type {\n",
       "        vertical-align: middle;\n",
       "    }\n",
       "\n",
       "    .dataframe tbody tr th {\n",
       "        vertical-align: top;\n",
       "    }\n",
       "\n",
       "    .dataframe thead th {\n",
       "        text-align: right;\n",
       "    }\n",
       "</style>\n",
       "<table border=\"1\" class=\"dataframe\">\n",
       "  <thead>\n",
       "    <tr style=\"text-align: right;\">\n",
       "      <th></th>\n",
       "      <th>0</th>\n",
       "      <th>1</th>\n",
       "    </tr>\n",
       "  </thead>\n",
       "  <tbody>\n",
       "    <tr>\n",
       "      <th>0</th>\n",
       "      <td>1</td>\n",
       "      <td>2</td>\n",
       "    </tr>\n",
       "    <tr>\n",
       "      <th>1</th>\n",
       "      <td>3</td>\n",
       "      <td>4</td>\n",
       "    </tr>\n",
       "    <tr>\n",
       "      <th>2</th>\n",
       "      <td>5</td>\n",
       "      <td>6</td>\n",
       "    </tr>\n",
       "  </tbody>\n",
       "</table>\n",
       "</div>"
      ],
      "text/plain": [
       "   0  1\n",
       "0  1  2\n",
       "1  3  4\n",
       "2  5  6"
      ]
     },
     "execution_count": 9,
     "metadata": {},
     "output_type": "execute_result"
    }
   ],
   "source": [
    "# pandas nos permite crear un Dataframe a partir de una lista anidada.\n",
    "# El siguiente código crea un DataFrame sin especificar\n",
    "# los encabezados de las filas y las columnas, que se generarán\n",
    "# de forma autonumérica.\n",
    "datos = [[1,2], [3,4], [5,6]]\n",
    "df = pd.DataFrame(datos)\n",
    "df"
   ]
  },
  {
   "cell_type": "code",
   "execution_count": 10,
   "id": "602fb719",
   "metadata": {},
   "outputs": [],
   "source": [
    "# Si lo desemamos podemos crear el DataFrame especificando los\n",
    "# encabezados de filas y columnas.\n",
    "df = pd.DataFrame(\n",
    "    datos,\n",
    "    index=['fila1', 'fila2', 'fila3'],\n",
    "    columns=['col1', 'col2']\n",
    ")"
   ]
  },
  {
   "cell_type": "code",
   "execution_count": 11,
   "id": "79340ee4",
   "metadata": {},
   "outputs": [
    {
     "data": {
      "text/html": [
       "<div>\n",
       "<style scoped>\n",
       "    .dataframe tbody tr th:only-of-type {\n",
       "        vertical-align: middle;\n",
       "    }\n",
       "\n",
       "    .dataframe tbody tr th {\n",
       "        vertical-align: top;\n",
       "    }\n",
       "\n",
       "    .dataframe thead th {\n",
       "        text-align: right;\n",
       "    }\n",
       "</style>\n",
       "<table border=\"1\" class=\"dataframe\">\n",
       "  <thead>\n",
       "    <tr style=\"text-align: right;\">\n",
       "      <th></th>\n",
       "      <th>col1</th>\n",
       "      <th>col2</th>\n",
       "    </tr>\n",
       "  </thead>\n",
       "  <tbody>\n",
       "    <tr>\n",
       "      <th>fila1</th>\n",
       "      <td>1</td>\n",
       "      <td>2</td>\n",
       "    </tr>\n",
       "    <tr>\n",
       "      <th>fila2</th>\n",
       "      <td>3</td>\n",
       "      <td>4</td>\n",
       "    </tr>\n",
       "    <tr>\n",
       "      <th>fila3</th>\n",
       "      <td>5</td>\n",
       "      <td>6</td>\n",
       "    </tr>\n",
       "  </tbody>\n",
       "</table>\n",
       "</div>"
      ],
      "text/plain": [
       "       col1  col2\n",
       "fila1     1     2\n",
       "fila2     3     4\n",
       "fila3     5     6"
      ]
     },
     "execution_count": 11,
     "metadata": {},
     "output_type": "execute_result"
    }
   ],
   "source": [
    "# Mostramos el Dataframe\n",
    "df"
   ]
  },
  {
   "cell_type": "markdown",
   "id": "f84f0ba3",
   "metadata": {},
   "source": [
    "#### Crear un Dataframe a partir de un array de NumPy"
   ]
  },
  {
   "cell_type": "code",
   "execution_count": 27,
   "id": "19d855f0",
   "metadata": {},
   "outputs": [
    {
     "data": {
      "text/plain": [
       "array([[1, 2],\n",
       "       [3, 4],\n",
       "       [5, 6]])"
      ]
     },
     "execution_count": 27,
     "metadata": {},
     "output_type": "execute_result"
    }
   ],
   "source": [
    "# También es posible crear un DataFrame a partir de un array de NumPy\n",
    "# Creamos el array\n",
    "datos = np.array([[1,2], [3,4], [5,6]])\n",
    "datos"
   ]
  },
  {
   "cell_type": "code",
   "execution_count": 13,
   "id": "61731cfe",
   "metadata": {},
   "outputs": [],
   "source": [
    "# Al igual que antes, es posible crear el DataFrame especificando los\n",
    "# nombres de filas y columnas\n",
    "df = pd.DataFrame(\n",
    "    datos,\n",
    "    index=['fila1', 'fila2', 'fila3'],\n",
    "    columns=['col1', 'col2']\n",
    ")"
   ]
  },
  {
   "cell_type": "code",
   "execution_count": 14,
   "id": "6a1db77c",
   "metadata": {},
   "outputs": [
    {
     "data": {
      "text/html": [
       "<div>\n",
       "<style scoped>\n",
       "    .dataframe tbody tr th:only-of-type {\n",
       "        vertical-align: middle;\n",
       "    }\n",
       "\n",
       "    .dataframe tbody tr th {\n",
       "        vertical-align: top;\n",
       "    }\n",
       "\n",
       "    .dataframe thead th {\n",
       "        text-align: right;\n",
       "    }\n",
       "</style>\n",
       "<table border=\"1\" class=\"dataframe\">\n",
       "  <thead>\n",
       "    <tr style=\"text-align: right;\">\n",
       "      <th></th>\n",
       "      <th>col1</th>\n",
       "      <th>col2</th>\n",
       "    </tr>\n",
       "  </thead>\n",
       "  <tbody>\n",
       "    <tr>\n",
       "      <th>fila1</th>\n",
       "      <td>1</td>\n",
       "      <td>2</td>\n",
       "    </tr>\n",
       "    <tr>\n",
       "      <th>fila2</th>\n",
       "      <td>3</td>\n",
       "      <td>4</td>\n",
       "    </tr>\n",
       "    <tr>\n",
       "      <th>fila3</th>\n",
       "      <td>5</td>\n",
       "      <td>6</td>\n",
       "    </tr>\n",
       "  </tbody>\n",
       "</table>\n",
       "</div>"
      ],
      "text/plain": [
       "       col1  col2\n",
       "fila1     1     2\n",
       "fila2     3     4\n",
       "fila3     5     6"
      ]
     },
     "execution_count": 14,
     "metadata": {},
     "output_type": "execute_result"
    }
   ],
   "source": [
    "# Mostramos el Dataframe\n",
    "df"
   ]
  },
  {
   "cell_type": "markdown",
   "id": "48e3cadd",
   "metadata": {},
   "source": [
    "### Crear un Dataframe a partir de un diccionario"
   ]
  },
  {
   "cell_type": "code",
   "execution_count": 15,
   "id": "23ad9a74",
   "metadata": {},
   "outputs": [],
   "source": [
    "# Otra forma habitual de crear DataFrames es a partir\n",
    "# de un diccionario.\n",
    "# Comenzamos creando las columnas (Series) del Dataframe:\n",
    "col1=[1,3,5]\n",
    "col2=[2,4,6]"
   ]
  },
  {
   "cell_type": "code",
   "execution_count": 28,
   "id": "3c7fd398",
   "metadata": {},
   "outputs": [],
   "source": [
    "# Almacenamos las Series creadas en un diccionario\n",
    "# Cada elemento del diccionario estará formado por un\n",
    "# par clave:valor.\n",
    "# Las claves de los elementos se corresponderán con las\n",
    "# características o features (encabezados de las columnas),\n",
    "# mientras que los valores representarán los datos de cada\n",
    "# columna o serie.\n",
    "dic = {'col1':col1,'col2':col2}"
   ]
  },
  {
   "cell_type": "code",
   "execution_count": 29,
   "id": "8d126561",
   "metadata": {},
   "outputs": [],
   "source": [
    "# Creamos el DataFrame\n",
    "# Si no especificamos los índices (encabezados de las filas),\n",
    "# se generarán índices autonuméricos.\n",
    "df = pd.DataFrame(\n",
    "    dic\n",
    ")"
   ]
  },
  {
   "cell_type": "code",
   "execution_count": 30,
   "id": "25497953",
   "metadata": {},
   "outputs": [
    {
     "data": {
      "text/html": [
       "<div>\n",
       "<style scoped>\n",
       "    .dataframe tbody tr th:only-of-type {\n",
       "        vertical-align: middle;\n",
       "    }\n",
       "\n",
       "    .dataframe tbody tr th {\n",
       "        vertical-align: top;\n",
       "    }\n",
       "\n",
       "    .dataframe thead th {\n",
       "        text-align: right;\n",
       "    }\n",
       "</style>\n",
       "<table border=\"1\" class=\"dataframe\">\n",
       "  <thead>\n",
       "    <tr style=\"text-align: right;\">\n",
       "      <th></th>\n",
       "      <th>col1</th>\n",
       "      <th>col2</th>\n",
       "    </tr>\n",
       "  </thead>\n",
       "  <tbody>\n",
       "    <tr>\n",
       "      <th>0</th>\n",
       "      <td>1</td>\n",
       "      <td>2</td>\n",
       "    </tr>\n",
       "    <tr>\n",
       "      <th>1</th>\n",
       "      <td>3</td>\n",
       "      <td>4</td>\n",
       "    </tr>\n",
       "    <tr>\n",
       "      <th>2</th>\n",
       "      <td>5</td>\n",
       "      <td>6</td>\n",
       "    </tr>\n",
       "  </tbody>\n",
       "</table>\n",
       "</div>"
      ],
      "text/plain": [
       "   col1  col2\n",
       "0     1     2\n",
       "1     3     4\n",
       "2     5     6"
      ]
     },
     "execution_count": 30,
     "metadata": {},
     "output_type": "execute_result"
    }
   ],
   "source": [
    "# Mostramos el Dataframe\n",
    "df"
   ]
  },
  {
   "cell_type": "code",
   "execution_count": 31,
   "id": "7be192e7",
   "metadata": {},
   "outputs": [],
   "source": [
    "# Si lo deseamos también podemos especificar los índices (encabezados de las filas)\n",
    "df = pd.DataFrame(\n",
    "    dic,\n",
    "    index=['fila1', 'fila2', 'fila3'],\n",
    ")"
   ]
  },
  {
   "cell_type": "code",
   "execution_count": 32,
   "id": "ec5b9bfc",
   "metadata": {},
   "outputs": [
    {
     "data": {
      "text/html": [
       "<div>\n",
       "<style scoped>\n",
       "    .dataframe tbody tr th:only-of-type {\n",
       "        vertical-align: middle;\n",
       "    }\n",
       "\n",
       "    .dataframe tbody tr th {\n",
       "        vertical-align: top;\n",
       "    }\n",
       "\n",
       "    .dataframe thead th {\n",
       "        text-align: right;\n",
       "    }\n",
       "</style>\n",
       "<table border=\"1\" class=\"dataframe\">\n",
       "  <thead>\n",
       "    <tr style=\"text-align: right;\">\n",
       "      <th></th>\n",
       "      <th>col1</th>\n",
       "      <th>col2</th>\n",
       "    </tr>\n",
       "  </thead>\n",
       "  <tbody>\n",
       "    <tr>\n",
       "      <th>fila1</th>\n",
       "      <td>1</td>\n",
       "      <td>2</td>\n",
       "    </tr>\n",
       "    <tr>\n",
       "      <th>fila2</th>\n",
       "      <td>3</td>\n",
       "      <td>4</td>\n",
       "    </tr>\n",
       "    <tr>\n",
       "      <th>fila3</th>\n",
       "      <td>5</td>\n",
       "      <td>6</td>\n",
       "    </tr>\n",
       "  </tbody>\n",
       "</table>\n",
       "</div>"
      ],
      "text/plain": [
       "       col1  col2\n",
       "fila1     1     2\n",
       "fila2     3     4\n",
       "fila3     5     6"
      ]
     },
     "execution_count": 32,
     "metadata": {},
     "output_type": "execute_result"
    }
   ],
   "source": [
    "# Mostramos el Dataframe\n",
    "df"
   ]
  },
  {
   "cell_type": "markdown",
   "id": "3bd6164a",
   "metadata": {},
   "source": [
    "### Crear un Dataframe a partir de un fichero CSV"
   ]
  },
  {
   "cell_type": "code",
   "execution_count": 21,
   "id": "ec6f36bf",
   "metadata": {},
   "outputs": [],
   "source": [
    "# Leemos el fichero CSV\n",
    "df = pd.read_csv('datos.csv')"
   ]
  },
  {
   "cell_type": "code",
   "execution_count": 22,
   "id": "96a4922a",
   "metadata": {},
   "outputs": [
    {
     "data": {
      "text/html": [
       "<div>\n",
       "<style scoped>\n",
       "    .dataframe tbody tr th:only-of-type {\n",
       "        vertical-align: middle;\n",
       "    }\n",
       "\n",
       "    .dataframe tbody tr th {\n",
       "        vertical-align: top;\n",
       "    }\n",
       "\n",
       "    .dataframe thead th {\n",
       "        text-align: right;\n",
       "    }\n",
       "</style>\n",
       "<table border=\"1\" class=\"dataframe\">\n",
       "  <thead>\n",
       "    <tr style=\"text-align: right;\">\n",
       "      <th></th>\n",
       "      <th>Unnamed: 0</th>\n",
       "      <th>col1</th>\n",
       "      <th>col2</th>\n",
       "    </tr>\n",
       "  </thead>\n",
       "  <tbody>\n",
       "    <tr>\n",
       "      <th>0</th>\n",
       "      <td>fila1</td>\n",
       "      <td>1</td>\n",
       "      <td>2</td>\n",
       "    </tr>\n",
       "    <tr>\n",
       "      <th>1</th>\n",
       "      <td>fila2</td>\n",
       "      <td>3</td>\n",
       "      <td>4</td>\n",
       "    </tr>\n",
       "    <tr>\n",
       "      <th>2</th>\n",
       "      <td>fila3</td>\n",
       "      <td>5</td>\n",
       "      <td>6</td>\n",
       "    </tr>\n",
       "  </tbody>\n",
       "</table>\n",
       "</div>"
      ],
      "text/plain": [
       "  Unnamed: 0  col1  col2\n",
       "0      fila1     1     2\n",
       "1      fila2     3     4\n",
       "2      fila3     5     6"
      ]
     },
     "execution_count": 22,
     "metadata": {},
     "output_type": "execute_result"
    }
   ],
   "source": [
    "# Mostramos el Dataframe\n",
    "df"
   ]
  },
  {
   "cell_type": "code",
   "execution_count": 23,
   "id": "9fe7fa3f",
   "metadata": {},
   "outputs": [],
   "source": [
    "# En el ejemplo anterior, pandas creó automáticamente\n",
    "# índices autonuméricos.\n",
    "# Si en el csv ya existe una columna con los índices,\n",
    "# podemos especificarlo al crear el DataFrame:\n",
    "df = pd.read_csv('datos.csv', index_col=[0])"
   ]
  },
  {
   "cell_type": "code",
   "execution_count": 24,
   "id": "cc87995e",
   "metadata": {},
   "outputs": [
    {
     "data": {
      "text/html": [
       "<div>\n",
       "<style scoped>\n",
       "    .dataframe tbody tr th:only-of-type {\n",
       "        vertical-align: middle;\n",
       "    }\n",
       "\n",
       "    .dataframe tbody tr th {\n",
       "        vertical-align: top;\n",
       "    }\n",
       "\n",
       "    .dataframe thead th {\n",
       "        text-align: right;\n",
       "    }\n",
       "</style>\n",
       "<table border=\"1\" class=\"dataframe\">\n",
       "  <thead>\n",
       "    <tr style=\"text-align: right;\">\n",
       "      <th></th>\n",
       "      <th>col1</th>\n",
       "      <th>col2</th>\n",
       "    </tr>\n",
       "  </thead>\n",
       "  <tbody>\n",
       "    <tr>\n",
       "      <th>fila1</th>\n",
       "      <td>1</td>\n",
       "      <td>2</td>\n",
       "    </tr>\n",
       "    <tr>\n",
       "      <th>fila2</th>\n",
       "      <td>3</td>\n",
       "      <td>4</td>\n",
       "    </tr>\n",
       "    <tr>\n",
       "      <th>fila3</th>\n",
       "      <td>5</td>\n",
       "      <td>6</td>\n",
       "    </tr>\n",
       "  </tbody>\n",
       "</table>\n",
       "</div>"
      ],
      "text/plain": [
       "       col1  col2\n",
       "fila1     1     2\n",
       "fila2     3     4\n",
       "fila3     5     6"
      ]
     },
     "execution_count": 24,
     "metadata": {},
     "output_type": "execute_result"
    }
   ],
   "source": [
    "# Mostramos el Dataframe\n",
    "df"
   ]
  },
  {
   "cell_type": "markdown",
   "id": "86ae0150",
   "metadata": {},
   "source": [
    "### Crear un Dataframe a partir de un fichero JSON"
   ]
  },
  {
   "cell_type": "code",
   "execution_count": 25,
   "id": "f10f83f4",
   "metadata": {
    "scrolled": true
   },
   "outputs": [],
   "source": [
    "# Por último, también es posible crear un DataFrame a partir\n",
    "# de un fichero JSON.\n",
    "# Leemos el fichero JSON:\n",
    "df = pd.read_json('datos.json')"
   ]
  },
  {
   "cell_type": "code",
   "execution_count": 26,
   "id": "2f47939d",
   "metadata": {},
   "outputs": [
    {
     "data": {
      "text/html": [
       "<div>\n",
       "<style scoped>\n",
       "    .dataframe tbody tr th:only-of-type {\n",
       "        vertical-align: middle;\n",
       "    }\n",
       "\n",
       "    .dataframe tbody tr th {\n",
       "        vertical-align: top;\n",
       "    }\n",
       "\n",
       "    .dataframe thead th {\n",
       "        text-align: right;\n",
       "    }\n",
       "</style>\n",
       "<table border=\"1\" class=\"dataframe\">\n",
       "  <thead>\n",
       "    <tr style=\"text-align: right;\">\n",
       "      <th></th>\n",
       "      <th>col1</th>\n",
       "      <th>col2</th>\n",
       "    </tr>\n",
       "  </thead>\n",
       "  <tbody>\n",
       "    <tr>\n",
       "      <th>fila1</th>\n",
       "      <td>1</td>\n",
       "      <td>2</td>\n",
       "    </tr>\n",
       "    <tr>\n",
       "      <th>fila2</th>\n",
       "      <td>3</td>\n",
       "      <td>4</td>\n",
       "    </tr>\n",
       "    <tr>\n",
       "      <th>fila3</th>\n",
       "      <td>5</td>\n",
       "      <td>6</td>\n",
       "    </tr>\n",
       "  </tbody>\n",
       "</table>\n",
       "</div>"
      ],
      "text/plain": [
       "       col1  col2\n",
       "fila1     1     2\n",
       "fila2     3     4\n",
       "fila3     5     6"
      ]
     },
     "execution_count": 26,
     "metadata": {},
     "output_type": "execute_result"
    }
   ],
   "source": [
    "# Mostramos el Dataframe\n",
    "df"
   ]
  }
 ],
 "metadata": {
  "kernelspec": {
   "display_name": "Python 3 (ipykernel)",
   "language": "python",
   "name": "python3"
  },
  "language_info": {
   "codemirror_mode": {
    "name": "ipython",
    "version": 3
   },
   "file_extension": ".py",
   "mimetype": "text/x-python",
   "name": "python",
   "nbconvert_exporter": "python",
   "pygments_lexer": "ipython3",
   "version": "3.11.5"
  }
 },
 "nbformat": 4,
 "nbformat_minor": 5
}
