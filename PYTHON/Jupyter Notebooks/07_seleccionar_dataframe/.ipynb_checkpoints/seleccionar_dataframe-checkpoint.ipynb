{
 "cells": [
  {
   "cell_type": "markdown",
   "id": "666ab426",
   "metadata": {},
   "source": [
    "# Seleccionar datos en un Dataframe"
   ]
  },
  {
   "cell_type": "code",
   "execution_count": 1,
   "id": "01d363cf",
   "metadata": {},
   "outputs": [],
   "source": [
    "# Importamos las librerías necesarias\n",
    "import pandas as pd\n",
    "import numpy as np"
   ]
  },
  {
   "cell_type": "code",
   "execution_count": 2,
   "id": "ae81a7e1",
   "metadata": {},
   "outputs": [],
   "source": [
    "# Leemos el fichero CSV asignando los tipos deseados a las columnas\n",
    "df = pd.read_csv(\n",
    "    'datos_limpios.csv',\n",
    "    index_col=[0],\n",
    "    dtype={'Comunidad':'string', 'Periodo':'int16', 'Poblacion':'int32'}\n",
    ")"
   ]
  },
  {
   "cell_type": "code",
   "execution_count": 3,
   "id": "3f7438c0",
   "metadata": {},
   "outputs": [
    {
     "data": {
      "text/html": [
       "<div>\n",
       "<style scoped>\n",
       "    .dataframe tbody tr th:only-of-type {\n",
       "        vertical-align: middle;\n",
       "    }\n",
       "\n",
       "    .dataframe tbody tr th {\n",
       "        vertical-align: top;\n",
       "    }\n",
       "\n",
       "    .dataframe thead th {\n",
       "        text-align: right;\n",
       "    }\n",
       "</style>\n",
       "<table border=\"1\" class=\"dataframe\">\n",
       "  <thead>\n",
       "    <tr style=\"text-align: right;\">\n",
       "      <th></th>\n",
       "      <th>Comunidad</th>\n",
       "      <th>Periodo</th>\n",
       "      <th>Poblacion</th>\n",
       "    </tr>\n",
       "  </thead>\n",
       "  <tbody>\n",
       "    <tr>\n",
       "      <th>0</th>\n",
       "      <td>Andalucía</td>\n",
       "      <td>2021</td>\n",
       "      <td>8472407</td>\n",
       "    </tr>\n",
       "    <tr>\n",
       "      <th>1</th>\n",
       "      <td>Aragón</td>\n",
       "      <td>2021</td>\n",
       "      <td>1326261</td>\n",
       "    </tr>\n",
       "    <tr>\n",
       "      <th>2</th>\n",
       "      <td>Asturias, Principado de</td>\n",
       "      <td>2021</td>\n",
       "      <td>1011792</td>\n",
       "    </tr>\n",
       "    <tr>\n",
       "      <th>3</th>\n",
       "      <td>Balears, Illes</td>\n",
       "      <td>2021</td>\n",
       "      <td>1173008</td>\n",
       "    </tr>\n",
       "    <tr>\n",
       "      <th>4</th>\n",
       "      <td>Canarias</td>\n",
       "      <td>2021</td>\n",
       "      <td>2172944</td>\n",
       "    </tr>\n",
       "    <tr>\n",
       "      <th>5</th>\n",
       "      <td>Cantabria</td>\n",
       "      <td>2021</td>\n",
       "      <td>584507</td>\n",
       "    </tr>\n",
       "    <tr>\n",
       "      <th>6</th>\n",
       "      <td>Castilla y León</td>\n",
       "      <td>2021</td>\n",
       "      <td>2383139</td>\n",
       "    </tr>\n",
       "    <tr>\n",
       "      <th>7</th>\n",
       "      <td>Castilla - La Mancha</td>\n",
       "      <td>2021</td>\n",
       "      <td>2049562</td>\n",
       "    </tr>\n",
       "    <tr>\n",
       "      <th>8</th>\n",
       "      <td>Cataluña</td>\n",
       "      <td>2021</td>\n",
       "      <td>7763362</td>\n",
       "    </tr>\n",
       "    <tr>\n",
       "      <th>9</th>\n",
       "      <td>Comunitat Valenciana</td>\n",
       "      <td>2021</td>\n",
       "      <td>5058138</td>\n",
       "    </tr>\n",
       "    <tr>\n",
       "      <th>10</th>\n",
       "      <td>Extremadura</td>\n",
       "      <td>2021</td>\n",
       "      <td>1059501</td>\n",
       "    </tr>\n",
       "    <tr>\n",
       "      <th>11</th>\n",
       "      <td>Galicia</td>\n",
       "      <td>2021</td>\n",
       "      <td>2695645</td>\n",
       "    </tr>\n",
       "    <tr>\n",
       "      <th>12</th>\n",
       "      <td>Madrid, Comunidad de</td>\n",
       "      <td>2021</td>\n",
       "      <td>6751251</td>\n",
       "    </tr>\n",
       "    <tr>\n",
       "      <th>13</th>\n",
       "      <td>Murcia, Región de</td>\n",
       "      <td>2021</td>\n",
       "      <td>1518486</td>\n",
       "    </tr>\n",
       "    <tr>\n",
       "      <th>14</th>\n",
       "      <td>Navarra, Comunidad Foral de</td>\n",
       "      <td>2021</td>\n",
       "      <td>661537</td>\n",
       "    </tr>\n",
       "    <tr>\n",
       "      <th>15</th>\n",
       "      <td>País Vasco</td>\n",
       "      <td>2021</td>\n",
       "      <td>2213993</td>\n",
       "    </tr>\n",
       "    <tr>\n",
       "      <th>16</th>\n",
       "      <td>Rioja, La</td>\n",
       "      <td>2021</td>\n",
       "      <td>319796</td>\n",
       "    </tr>\n",
       "    <tr>\n",
       "      <th>17</th>\n",
       "      <td>Ceuta</td>\n",
       "      <td>2021</td>\n",
       "      <td>83517</td>\n",
       "    </tr>\n",
       "    <tr>\n",
       "      <th>18</th>\n",
       "      <td>Melilla</td>\n",
       "      <td>2021</td>\n",
       "      <td>86261</td>\n",
       "    </tr>\n",
       "  </tbody>\n",
       "</table>\n",
       "</div>"
      ],
      "text/plain": [
       "                      Comunidad  Periodo  Poblacion\n",
       "0                     Andalucía     2021    8472407\n",
       "1                        Aragón     2021    1326261\n",
       "2       Asturias, Principado de     2021    1011792\n",
       "3                Balears, Illes     2021    1173008\n",
       "4                      Canarias     2021    2172944\n",
       "5                     Cantabria     2021     584507\n",
       "6               Castilla y León     2021    2383139\n",
       "7          Castilla - La Mancha     2021    2049562\n",
       "8                      Cataluña     2021    7763362\n",
       "9          Comunitat Valenciana     2021    5058138\n",
       "10                  Extremadura     2021    1059501\n",
       "11                      Galicia     2021    2695645\n",
       "12         Madrid, Comunidad de     2021    6751251\n",
       "13            Murcia, Región de     2021    1518486\n",
       "14  Navarra, Comunidad Foral de     2021     661537\n",
       "15                   País Vasco     2021    2213993\n",
       "16                    Rioja, La     2021     319796\n",
       "17                        Ceuta     2021      83517\n",
       "18                      Melilla     2021      86261"
      ]
     },
     "execution_count": 3,
     "metadata": {},
     "output_type": "execute_result"
    }
   ],
   "source": [
    "# Mostramos el Dataframe\n",
    "df"
   ]
  },
  {
   "cell_type": "markdown",
   "id": "4039057a",
   "metadata": {},
   "source": [
    "## Seleccionar una columna"
   ]
  },
  {
   "cell_type": "code",
   "execution_count": 4,
   "id": "00e0a656",
   "metadata": {},
   "outputs": [],
   "source": [
    "# Seleccionamos la columna 'Comunidad'\n",
    "columna = df['Comunidad']"
   ]
  },
  {
   "cell_type": "code",
   "execution_count": 5,
   "id": "546cc56a",
   "metadata": {},
   "outputs": [
    {
     "data": {
      "text/plain": [
       "0                       Andalucía\n",
       "1                          Aragón\n",
       "2         Asturias, Principado de\n",
       "3                  Balears, Illes\n",
       "4                        Canarias\n",
       "5                       Cantabria\n",
       "6                 Castilla y León\n",
       "7            Castilla - La Mancha\n",
       "8                        Cataluña\n",
       "9            Comunitat Valenciana\n",
       "10                    Extremadura\n",
       "11                        Galicia\n",
       "12           Madrid, Comunidad de\n",
       "13              Murcia, Región de\n",
       "14    Navarra, Comunidad Foral de\n",
       "15                     País Vasco\n",
       "16                      Rioja, La\n",
       "17                          Ceuta\n",
       "18                        Melilla\n",
       "Name: Comunidad, dtype: string"
      ]
     },
     "execution_count": 5,
     "metadata": {},
     "output_type": "execute_result"
    }
   ],
   "source": [
    "# Mostramos la columna seleccionada\n",
    "columna"
   ]
  },
  {
   "cell_type": "code",
   "execution_count": 6,
   "id": "6e7c9c5f",
   "metadata": {},
   "outputs": [
    {
     "data": {
      "text/plain": [
       "pandas.core.series.Series"
      ]
     },
     "execution_count": 6,
     "metadata": {},
     "output_type": "execute_result"
    }
   ],
   "source": [
    "# Mostramos el tipo de la columna (serie)\n",
    "type(columna)"
   ]
  },
  {
   "cell_type": "code",
   "execution_count": 7,
   "id": "a0c42705",
   "metadata": {},
   "outputs": [
    {
     "data": {
      "text/plain": [
       "0                       Andalucía\n",
       "1                          Aragón\n",
       "2         Asturias, Principado de\n",
       "3                  Balears, Illes\n",
       "4                        Canarias\n",
       "5                       Cantabria\n",
       "6                 Castilla y León\n",
       "7            Castilla - La Mancha\n",
       "8                        Cataluña\n",
       "9            Comunitat Valenciana\n",
       "10                    Extremadura\n",
       "11                        Galicia\n",
       "12           Madrid, Comunidad de\n",
       "13              Murcia, Región de\n",
       "14    Navarra, Comunidad Foral de\n",
       "15                     País Vasco\n",
       "16                      Rioja, La\n",
       "17                          Ceuta\n",
       "18                        Melilla\n",
       "Name: Comunidad, dtype: string"
      ]
     },
     "execution_count": 7,
     "metadata": {},
     "output_type": "execute_result"
    }
   ],
   "source": [
    "# Otra forma de seleccionar una columna\n",
    "df.Comunidad"
   ]
  },
  {
   "cell_type": "markdown",
   "id": "464ef7ab",
   "metadata": {},
   "source": [
    "## Seleccionar varias columnas"
   ]
  },
  {
   "cell_type": "code",
   "execution_count": 8,
   "id": "74467fd8",
   "metadata": {},
   "outputs": [],
   "source": [
    "# Seleccionamos las columnas 'Comunidad' y 'Población'\n",
    "columnas = df[['Comunidad','Poblacion']]"
   ]
  },
  {
   "cell_type": "code",
   "execution_count": 9,
   "id": "7fd07658",
   "metadata": {},
   "outputs": [
    {
     "data": {
      "text/html": [
       "<div>\n",
       "<style scoped>\n",
       "    .dataframe tbody tr th:only-of-type {\n",
       "        vertical-align: middle;\n",
       "    }\n",
       "\n",
       "    .dataframe tbody tr th {\n",
       "        vertical-align: top;\n",
       "    }\n",
       "\n",
       "    .dataframe thead th {\n",
       "        text-align: right;\n",
       "    }\n",
       "</style>\n",
       "<table border=\"1\" class=\"dataframe\">\n",
       "  <thead>\n",
       "    <tr style=\"text-align: right;\">\n",
       "      <th></th>\n",
       "      <th>Comunidad</th>\n",
       "      <th>Poblacion</th>\n",
       "    </tr>\n",
       "  </thead>\n",
       "  <tbody>\n",
       "    <tr>\n",
       "      <th>0</th>\n",
       "      <td>Andalucía</td>\n",
       "      <td>8472407</td>\n",
       "    </tr>\n",
       "    <tr>\n",
       "      <th>1</th>\n",
       "      <td>Aragón</td>\n",
       "      <td>1326261</td>\n",
       "    </tr>\n",
       "    <tr>\n",
       "      <th>2</th>\n",
       "      <td>Asturias, Principado de</td>\n",
       "      <td>1011792</td>\n",
       "    </tr>\n",
       "    <tr>\n",
       "      <th>3</th>\n",
       "      <td>Balears, Illes</td>\n",
       "      <td>1173008</td>\n",
       "    </tr>\n",
       "    <tr>\n",
       "      <th>4</th>\n",
       "      <td>Canarias</td>\n",
       "      <td>2172944</td>\n",
       "    </tr>\n",
       "    <tr>\n",
       "      <th>5</th>\n",
       "      <td>Cantabria</td>\n",
       "      <td>584507</td>\n",
       "    </tr>\n",
       "    <tr>\n",
       "      <th>6</th>\n",
       "      <td>Castilla y León</td>\n",
       "      <td>2383139</td>\n",
       "    </tr>\n",
       "    <tr>\n",
       "      <th>7</th>\n",
       "      <td>Castilla - La Mancha</td>\n",
       "      <td>2049562</td>\n",
       "    </tr>\n",
       "    <tr>\n",
       "      <th>8</th>\n",
       "      <td>Cataluña</td>\n",
       "      <td>7763362</td>\n",
       "    </tr>\n",
       "    <tr>\n",
       "      <th>9</th>\n",
       "      <td>Comunitat Valenciana</td>\n",
       "      <td>5058138</td>\n",
       "    </tr>\n",
       "    <tr>\n",
       "      <th>10</th>\n",
       "      <td>Extremadura</td>\n",
       "      <td>1059501</td>\n",
       "    </tr>\n",
       "    <tr>\n",
       "      <th>11</th>\n",
       "      <td>Galicia</td>\n",
       "      <td>2695645</td>\n",
       "    </tr>\n",
       "    <tr>\n",
       "      <th>12</th>\n",
       "      <td>Madrid, Comunidad de</td>\n",
       "      <td>6751251</td>\n",
       "    </tr>\n",
       "    <tr>\n",
       "      <th>13</th>\n",
       "      <td>Murcia, Región de</td>\n",
       "      <td>1518486</td>\n",
       "    </tr>\n",
       "    <tr>\n",
       "      <th>14</th>\n",
       "      <td>Navarra, Comunidad Foral de</td>\n",
       "      <td>661537</td>\n",
       "    </tr>\n",
       "    <tr>\n",
       "      <th>15</th>\n",
       "      <td>País Vasco</td>\n",
       "      <td>2213993</td>\n",
       "    </tr>\n",
       "    <tr>\n",
       "      <th>16</th>\n",
       "      <td>Rioja, La</td>\n",
       "      <td>319796</td>\n",
       "    </tr>\n",
       "    <tr>\n",
       "      <th>17</th>\n",
       "      <td>Ceuta</td>\n",
       "      <td>83517</td>\n",
       "    </tr>\n",
       "    <tr>\n",
       "      <th>18</th>\n",
       "      <td>Melilla</td>\n",
       "      <td>86261</td>\n",
       "    </tr>\n",
       "  </tbody>\n",
       "</table>\n",
       "</div>"
      ],
      "text/plain": [
       "                      Comunidad  Poblacion\n",
       "0                     Andalucía    8472407\n",
       "1                        Aragón    1326261\n",
       "2       Asturias, Principado de    1011792\n",
       "3                Balears, Illes    1173008\n",
       "4                      Canarias    2172944\n",
       "5                     Cantabria     584507\n",
       "6               Castilla y León    2383139\n",
       "7          Castilla - La Mancha    2049562\n",
       "8                      Cataluña    7763362\n",
       "9          Comunitat Valenciana    5058138\n",
       "10                  Extremadura    1059501\n",
       "11                      Galicia    2695645\n",
       "12         Madrid, Comunidad de    6751251\n",
       "13            Murcia, Región de    1518486\n",
       "14  Navarra, Comunidad Foral de     661537\n",
       "15                   País Vasco    2213993\n",
       "16                    Rioja, La     319796\n",
       "17                        Ceuta      83517\n",
       "18                      Melilla      86261"
      ]
     },
     "execution_count": 9,
     "metadata": {},
     "output_type": "execute_result"
    }
   ],
   "source": [
    "# Mostramos las columnas seleccionada\n",
    "columnas"
   ]
  },
  {
   "cell_type": "code",
   "execution_count": 10,
   "id": "0b3f4a58",
   "metadata": {},
   "outputs": [
    {
     "data": {
      "text/plain": [
       "pandas.core.frame.DataFrame"
      ]
     },
     "execution_count": 10,
     "metadata": {},
     "output_type": "execute_result"
    }
   ],
   "source": [
    "# Mostramos el tipo de la selección que hemos hecho\n",
    "type(columnas)"
   ]
  }
 ],
 "metadata": {
  "kernelspec": {
   "display_name": "Python 3 (ipykernel)",
   "language": "python",
   "name": "python3"
  },
  "language_info": {
   "codemirror_mode": {
    "name": "ipython",
    "version": 3
   },
   "file_extension": ".py",
   "mimetype": "text/x-python",
   "name": "python",
   "nbconvert_exporter": "python",
   "pygments_lexer": "ipython3",
   "version": "3.11.5"
  }
 },
 "nbformat": 4,
 "nbformat_minor": 5
}
