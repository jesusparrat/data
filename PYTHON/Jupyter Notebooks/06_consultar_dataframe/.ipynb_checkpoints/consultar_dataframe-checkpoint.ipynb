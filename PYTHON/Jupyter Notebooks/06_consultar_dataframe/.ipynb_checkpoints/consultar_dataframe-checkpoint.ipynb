{
 "cells": [
  {
   "cell_type": "markdown",
   "id": "666ab426",
   "metadata": {},
   "source": [
    "# Consultar Dataframe"
   ]
  },
  {
   "cell_type": "code",
   "execution_count": 1,
   "id": "01d363cf",
   "metadata": {},
   "outputs": [],
   "source": [
    "# Importamos las librerías necesarias\n",
    "import pandas as pd\n",
    "import numpy as np"
   ]
  },
  {
   "cell_type": "code",
   "execution_count": 2,
   "id": "ae81a7e1",
   "metadata": {},
   "outputs": [],
   "source": [
    "# Leemos el fichero CSV asignando los tipos deseados a las columnas\n",
    "df = pd.read_csv(\n",
    "    'datos_limpios.csv',\n",
    "    index_col=[0],\n",
    "    dtype={'Comunidad':'string', 'Periodo':'int16', 'Poblacion':'int32'}\n",
    ")"
   ]
  },
  {
   "cell_type": "code",
   "execution_count": 3,
   "id": "3f7438c0",
   "metadata": {},
   "outputs": [
    {
     "data": {
      "text/html": [
       "<div>\n",
       "<style scoped>\n",
       "    .dataframe tbody tr th:only-of-type {\n",
       "        vertical-align: middle;\n",
       "    }\n",
       "\n",
       "    .dataframe tbody tr th {\n",
       "        vertical-align: top;\n",
       "    }\n",
       "\n",
       "    .dataframe thead th {\n",
       "        text-align: right;\n",
       "    }\n",
       "</style>\n",
       "<table border=\"1\" class=\"dataframe\">\n",
       "  <thead>\n",
       "    <tr style=\"text-align: right;\">\n",
       "      <th></th>\n",
       "      <th>Comunidad</th>\n",
       "      <th>Periodo</th>\n",
       "      <th>Poblacion</th>\n",
       "    </tr>\n",
       "  </thead>\n",
       "  <tbody>\n",
       "    <tr>\n",
       "      <th>0</th>\n",
       "      <td>Andalucía</td>\n",
       "      <td>2021</td>\n",
       "      <td>8472407</td>\n",
       "    </tr>\n",
       "    <tr>\n",
       "      <th>1</th>\n",
       "      <td>Aragón</td>\n",
       "      <td>2021</td>\n",
       "      <td>1326261</td>\n",
       "    </tr>\n",
       "    <tr>\n",
       "      <th>2</th>\n",
       "      <td>Asturias, Principado de</td>\n",
       "      <td>2021</td>\n",
       "      <td>1011792</td>\n",
       "    </tr>\n",
       "    <tr>\n",
       "      <th>3</th>\n",
       "      <td>Balears, Illes</td>\n",
       "      <td>2021</td>\n",
       "      <td>1173008</td>\n",
       "    </tr>\n",
       "    <tr>\n",
       "      <th>4</th>\n",
       "      <td>Canarias</td>\n",
       "      <td>2021</td>\n",
       "      <td>2172944</td>\n",
       "    </tr>\n",
       "    <tr>\n",
       "      <th>5</th>\n",
       "      <td>Cantabria</td>\n",
       "      <td>2021</td>\n",
       "      <td>584507</td>\n",
       "    </tr>\n",
       "    <tr>\n",
       "      <th>6</th>\n",
       "      <td>Castilla y León</td>\n",
       "      <td>2021</td>\n",
       "      <td>2383139</td>\n",
       "    </tr>\n",
       "    <tr>\n",
       "      <th>7</th>\n",
       "      <td>Castilla - La Mancha</td>\n",
       "      <td>2021</td>\n",
       "      <td>2049562</td>\n",
       "    </tr>\n",
       "    <tr>\n",
       "      <th>8</th>\n",
       "      <td>Cataluña</td>\n",
       "      <td>2021</td>\n",
       "      <td>7763362</td>\n",
       "    </tr>\n",
       "    <tr>\n",
       "      <th>9</th>\n",
       "      <td>Comunitat Valenciana</td>\n",
       "      <td>2021</td>\n",
       "      <td>5058138</td>\n",
       "    </tr>\n",
       "    <tr>\n",
       "      <th>10</th>\n",
       "      <td>Extremadura</td>\n",
       "      <td>2021</td>\n",
       "      <td>1059501</td>\n",
       "    </tr>\n",
       "    <tr>\n",
       "      <th>11</th>\n",
       "      <td>Galicia</td>\n",
       "      <td>2021</td>\n",
       "      <td>2695645</td>\n",
       "    </tr>\n",
       "    <tr>\n",
       "      <th>12</th>\n",
       "      <td>Madrid, Comunidad de</td>\n",
       "      <td>2021</td>\n",
       "      <td>6751251</td>\n",
       "    </tr>\n",
       "    <tr>\n",
       "      <th>13</th>\n",
       "      <td>Murcia, Región de</td>\n",
       "      <td>2021</td>\n",
       "      <td>1518486</td>\n",
       "    </tr>\n",
       "    <tr>\n",
       "      <th>14</th>\n",
       "      <td>Navarra, Comunidad Foral de</td>\n",
       "      <td>2021</td>\n",
       "      <td>661537</td>\n",
       "    </tr>\n",
       "    <tr>\n",
       "      <th>15</th>\n",
       "      <td>País Vasco</td>\n",
       "      <td>2021</td>\n",
       "      <td>2213993</td>\n",
       "    </tr>\n",
       "    <tr>\n",
       "      <th>16</th>\n",
       "      <td>Rioja, La</td>\n",
       "      <td>2021</td>\n",
       "      <td>319796</td>\n",
       "    </tr>\n",
       "    <tr>\n",
       "      <th>17</th>\n",
       "      <td>Ceuta</td>\n",
       "      <td>2021</td>\n",
       "      <td>83517</td>\n",
       "    </tr>\n",
       "    <tr>\n",
       "      <th>18</th>\n",
       "      <td>Melilla</td>\n",
       "      <td>2021</td>\n",
       "      <td>86261</td>\n",
       "    </tr>\n",
       "  </tbody>\n",
       "</table>\n",
       "</div>"
      ],
      "text/plain": [
       "                      Comunidad  Periodo  Poblacion\n",
       "0                     Andalucía     2021    8472407\n",
       "1                        Aragón     2021    1326261\n",
       "2       Asturias, Principado de     2021    1011792\n",
       "3                Balears, Illes     2021    1173008\n",
       "4                      Canarias     2021    2172944\n",
       "5                     Cantabria     2021     584507\n",
       "6               Castilla y León     2021    2383139\n",
       "7          Castilla - La Mancha     2021    2049562\n",
       "8                      Cataluña     2021    7763362\n",
       "9          Comunitat Valenciana     2021    5058138\n",
       "10                  Extremadura     2021    1059501\n",
       "11                      Galicia     2021    2695645\n",
       "12         Madrid, Comunidad de     2021    6751251\n",
       "13            Murcia, Región de     2021    1518486\n",
       "14  Navarra, Comunidad Foral de     2021     661537\n",
       "15                   País Vasco     2021    2213993\n",
       "16                    Rioja, La     2021     319796\n",
       "17                        Ceuta     2021      83517\n",
       "18                      Melilla     2021      86261"
      ]
     },
     "execution_count": 3,
     "metadata": {},
     "output_type": "execute_result"
    }
   ],
   "source": [
    "# Mostramos el Dataframe\n",
    "df"
   ]
  },
  {
   "cell_type": "markdown",
   "id": "7ee87bbb",
   "metadata": {},
   "source": [
    "## Atributos"
   ]
  },
  {
   "cell_type": "code",
   "execution_count": 4,
   "id": "1c8f8257",
   "metadata": {},
   "outputs": [
    {
     "data": {
      "text/plain": [
       "Comunidad    string[python]\n",
       "Periodo               int16\n",
       "Poblacion             int32\n",
       "dtype: object"
      ]
     },
     "execution_count": 4,
     "metadata": {},
     "output_type": "execute_result"
    }
   ],
   "source": [
    "# Mostamos los tipos de datos del Dataframe\n",
    "# consultando su atributo dtypes\n",
    "df.dtypes"
   ]
  },
  {
   "cell_type": "code",
   "execution_count": 5,
   "id": "c039b1b7",
   "metadata": {},
   "outputs": [
    {
     "data": {
      "text/plain": [
       "(19, 3)"
      ]
     },
     "execution_count": 5,
     "metadata": {},
     "output_type": "execute_result"
    }
   ],
   "source": [
    "# Mostramos el número de filas y columnas del Dataframe\n",
    "# consultando su atributo shape\n",
    "df.shape"
   ]
  },
  {
   "cell_type": "code",
   "execution_count": 6,
   "id": "05d0c20c",
   "metadata": {},
   "outputs": [
    {
     "data": {
      "text/plain": [
       "Index([0, 1, 2, 3, 4, 5, 6, 7, 8, 9, 10, 11, 12, 13, 14, 15, 16, 17, 18], dtype='int64')"
      ]
     },
     "execution_count": 6,
     "metadata": {},
     "output_type": "execute_result"
    }
   ],
   "source": [
    "# Mostramos los índices del Dataframe\n",
    "# consultando su atributo index\n",
    "df.index"
   ]
  },
  {
   "cell_type": "code",
   "execution_count": 7,
   "id": "fd71c0b8",
   "metadata": {},
   "outputs": [
    {
     "data": {
      "text/plain": [
       "Index(['Comunidad', 'Periodo', 'Poblacion'], dtype='object')"
      ]
     },
     "execution_count": 7,
     "metadata": {},
     "output_type": "execute_result"
    }
   ],
   "source": [
    "# Mostramos las columnas del Dataframe\n",
    "# consultando su atributo columns\n",
    "df.columns"
   ]
  },
  {
   "cell_type": "markdown",
   "id": "278e41e7",
   "metadata": {},
   "source": [
    "## Métodos"
   ]
  },
  {
   "cell_type": "code",
   "execution_count": 8,
   "id": "75b6299d",
   "metadata": {},
   "outputs": [
    {
     "name": "stdout",
     "output_type": "stream",
     "text": [
      "<class 'pandas.core.frame.DataFrame'>\n",
      "Index: 19 entries, 0 to 18\n",
      "Data columns (total 3 columns):\n",
      " #   Column     Non-Null Count  Dtype \n",
      "---  ------     --------------  ----- \n",
      " 0   Comunidad  19 non-null     string\n",
      " 1   Periodo    19 non-null     int16 \n",
      " 2   Poblacion  19 non-null     int32 \n",
      "dtypes: int16(1), int32(1), string(1)\n",
      "memory usage: 418.0 bytes\n"
     ]
    }
   ],
   "source": [
    "# Mostramos la información del Dataframe\n",
    "# invocando su método info()\n",
    "df.info()"
   ]
  },
  {
   "cell_type": "code",
   "execution_count": 9,
   "id": "a2e2542a",
   "metadata": {},
   "outputs": [
    {
     "data": {
      "text/html": [
       "<div>\n",
       "<style scoped>\n",
       "    .dataframe tbody tr th:only-of-type {\n",
       "        vertical-align: middle;\n",
       "    }\n",
       "\n",
       "    .dataframe tbody tr th {\n",
       "        vertical-align: top;\n",
       "    }\n",
       "\n",
       "    .dataframe thead th {\n",
       "        text-align: right;\n",
       "    }\n",
       "</style>\n",
       "<table border=\"1\" class=\"dataframe\">\n",
       "  <thead>\n",
       "    <tr style=\"text-align: right;\">\n",
       "      <th></th>\n",
       "      <th>Periodo</th>\n",
       "      <th>Poblacion</th>\n",
       "    </tr>\n",
       "  </thead>\n",
       "  <tbody>\n",
       "    <tr>\n",
       "      <th>count</th>\n",
       "      <td>19.0</td>\n",
       "      <td>1.900000e+01</td>\n",
       "    </tr>\n",
       "    <tr>\n",
       "      <th>mean</th>\n",
       "      <td>2021.0</td>\n",
       "      <td>2.493953e+06</td>\n",
       "    </tr>\n",
       "    <tr>\n",
       "      <th>std</th>\n",
       "      <td>0.0</td>\n",
       "      <td>2.585132e+06</td>\n",
       "    </tr>\n",
       "    <tr>\n",
       "      <th>min</th>\n",
       "      <td>2021.0</td>\n",
       "      <td>8.351700e+04</td>\n",
       "    </tr>\n",
       "    <tr>\n",
       "      <th>25%</th>\n",
       "      <td>2021.0</td>\n",
       "      <td>8.366645e+05</td>\n",
       "    </tr>\n",
       "    <tr>\n",
       "      <th>50%</th>\n",
       "      <td>2021.0</td>\n",
       "      <td>1.518486e+06</td>\n",
       "    </tr>\n",
       "    <tr>\n",
       "      <th>75%</th>\n",
       "      <td>2021.0</td>\n",
       "      <td>2.539392e+06</td>\n",
       "    </tr>\n",
       "    <tr>\n",
       "      <th>max</th>\n",
       "      <td>2021.0</td>\n",
       "      <td>8.472407e+06</td>\n",
       "    </tr>\n",
       "  </tbody>\n",
       "</table>\n",
       "</div>"
      ],
      "text/plain": [
       "       Periodo     Poblacion\n",
       "count     19.0  1.900000e+01\n",
       "mean    2021.0  2.493953e+06\n",
       "std        0.0  2.585132e+06\n",
       "min     2021.0  8.351700e+04\n",
       "25%     2021.0  8.366645e+05\n",
       "50%     2021.0  1.518486e+06\n",
       "75%     2021.0  2.539392e+06\n",
       "max     2021.0  8.472407e+06"
      ]
     },
     "execution_count": 9,
     "metadata": {},
     "output_type": "execute_result"
    }
   ],
   "source": [
    "# Mostramos información estadística del Dataframe\n",
    "# invocando su método describe()\n",
    "df.describe()"
   ]
  },
  {
   "cell_type": "markdown",
   "id": "13b6141d",
   "metadata": {},
   "source": [
    "## Funciones "
   ]
  },
  {
   "cell_type": "code",
   "execution_count": 10,
   "id": "d75729f1",
   "metadata": {},
   "outputs": [
    {
     "data": {
      "text/plain": [
       "19"
      ]
     },
     "execution_count": 10,
     "metadata": {},
     "output_type": "execute_result"
    }
   ],
   "source": [
    "# Obtenemos el tamaño del Dataframe (columnas)\n",
    "# mediante la función len()\n",
    "len(df)"
   ]
  },
  {
   "cell_type": "code",
   "execution_count": 11,
   "id": "02281922",
   "metadata": {},
   "outputs": [
    {
     "data": {
      "text/plain": [
       "18"
      ]
     },
     "execution_count": 11,
     "metadata": {},
     "output_type": "execute_result"
    }
   ],
   "source": [
    "# Obtenemos el valor máximo del índice del Dataframe\n",
    "# mediante la función max()\n",
    "max(df.index)"
   ]
  },
  {
   "cell_type": "code",
   "execution_count": 12,
   "id": "8a76e891",
   "metadata": {},
   "outputs": [
    {
     "data": {
      "text/plain": [
       "0"
      ]
     },
     "execution_count": 12,
     "metadata": {},
     "output_type": "execute_result"
    }
   ],
   "source": [
    "# Obtenemos el valor mímino del índice del Dataframe\n",
    "# mediante la función min()\n",
    "min(df.index)"
   ]
  },
  {
   "cell_type": "code",
   "execution_count": 13,
   "id": "86135a0e",
   "metadata": {},
   "outputs": [
    {
     "data": {
      "text/plain": [
       "8472407"
      ]
     },
     "execution_count": 13,
     "metadata": {},
     "output_type": "execute_result"
    }
   ],
   "source": [
    "# Obtenemos el valor máximo de la columna 'Población' del Dataframe\n",
    "max(df['Poblacion'])"
   ]
  },
  {
   "cell_type": "code",
   "execution_count": 14,
   "id": "6278eca6",
   "metadata": {},
   "outputs": [
    {
     "data": {
      "text/plain": [
       "83517"
      ]
     },
     "execution_count": 14,
     "metadata": {},
     "output_type": "execute_result"
    }
   ],
   "source": [
    "# Obtenemos el valor mínimo de la columna 'Población' del Dataframe\n",
    "min(df['Poblacion'])"
   ]
  }
 ],
 "metadata": {
  "kernelspec": {
   "display_name": "Python 3 (ipykernel)",
   "language": "python",
   "name": "python3"
  },
  "language_info": {
   "codemirror_mode": {
    "name": "ipython",
    "version": 3
   },
   "file_extension": ".py",
   "mimetype": "text/x-python",
   "name": "python",
   "nbconvert_exporter": "python",
   "pygments_lexer": "ipython3",
   "version": "3.11.5"
  }
 },
 "nbformat": 4,
 "nbformat_minor": 5
}
